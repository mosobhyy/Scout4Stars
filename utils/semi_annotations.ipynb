{
 "cells": [
  {
   "attachments": {},
   "cell_type": "markdown",
   "metadata": {},
   "source": [
    "Import Libraries"
   ]
  },
  {
   "cell_type": "code",
   "execution_count": null,
   "metadata": {},
   "outputs": [],
   "source": [
    "import os, glob, shutil "
   ]
  },
  {
   "attachments": {},
   "cell_type": "markdown",
   "metadata": {},
   "source": [
    "Get all images set"
   ]
  },
  {
   "cell_type": "code",
   "execution_count": 24,
   "metadata": {},
   "outputs": [
    {
     "name": "stdout",
     "output_type": "stream",
     "text": [
      "['1', '1-1', '1-2', '1-3', '1-4', '1-5', '1-6', '2', '2-1', '2-2', '2-3', '2-4', '2-5', '2-6', '3', '3-1', '3-2', '3-3', '3-4', '3-5', '3-6', '4', '4-1', '4-2', '4-3', '4-4', '4-5', '4-6', '5', '6']\n"
     ]
    }
   ],
   "source": [
    "images_names = os.listdir('/mnt/16F2E723F2E70639/ITI/Gradution Project/Scouting/sub-scout')\n",
    "images_set = {img_name[:img_name.rfind('-')] for img_name in images_names}\n",
    "\n",
    "print(sorted(images_set))"
   ]
  },
  {
   "attachments": {},
   "cell_type": "markdown",
   "metadata": {},
   "source": [
    "Get images set that have been annotated\n"
   ]
  },
  {
   "cell_type": "code",
   "execution_count": 16,
   "metadata": {},
   "outputs": [],
   "source": [
    "images_names = os.listdir('/mnt/16F2E723F2E70639/ITI/Gradution Project/Scout4Stars/dataset/images')\n",
    "annotated_images_set = {img_name[:img_name.rfind('-')] for img_name in images_names}"
   ]
  },
  {
   "attachments": {},
   "cell_type": "markdown",
   "metadata": {},
   "source": [
    "Get images set that needs to be annotated to be marked as reference later\n"
   ]
  },
  {
   "cell_type": "code",
   "execution_count": 22,
   "metadata": {},
   "outputs": [
    {
     "name": "stdout",
     "output_type": "stream",
     "text": [
      "['2', '2-2', '2-5', '2-6', '4', '4-1', '4-2', '4-3', '4-4', '4-5', '4-6', '5', '6']\n"
     ]
    }
   ],
   "source": [
    "print(sorted(images_set - annotated_images_set))"
   ]
  },
  {
   "attachments": {},
   "cell_type": "markdown",
   "metadata": {},
   "source": [
    "So we need to annotate image for every image in from the following set:\n",
    "\n",
    "`['2', '2-2', '2-5', '2-6', '4', '4-1', '4-2', '4-3', '4-4', '4-5', '4-6', '5', '6']`\n",
    "\n",
    "to be marked as reference."
   ]
  },
  {
   "attachments": {},
   "cell_type": "markdown",
   "metadata": {},
   "source": [
    "We excluded `['1-3', '1-5', '2-3', '3-5', '2-5', '4-3', '4-5', '5']` from the set as it has no static objects over all the set."
   ]
  },
  {
   "cell_type": "code",
   "execution_count": 282,
   "metadata": {},
   "outputs": [],
   "source": [
    "references = [\n",
    "                '1-00351.txt', '1-1-00039.txt', '1-2-00044.txt', '1-4-00006.txt', \n",
    "                '1-6-00005.txt', '2-00153.txt', '2-1-00034.txt', '2-2-00059.txt',\n",
    "                '2-4-00018.txt', '2-6-00002.txt', '3-00001.txt', '3-1-00214.txt',\n",
    "                '3-2-00022.txt', '3-3-00003.txt', '3-4-00630.txt', '3-6-00002.txt',\n",
    "                '4-00073.txt', '4-1-00110.txt', '4-2-00203.txt', '4-4-00060.txt',\n",
    "                '4-6-00006.txt', '6-00106.txt'\n",
    "            ]"
   ]
  },
  {
   "attachments": {},
   "cell_type": "markdown",
   "metadata": {},
   "source": [
    "Convert references to dictionary with respect to sets as keys"
   ]
  },
  {
   "cell_type": "code",
   "execution_count": 283,
   "metadata": {},
   "outputs": [
    {
     "data": {
      "text/plain": [
       "{'1': '1-00351.txt',\n",
       " '1-1': '1-1-00039.txt',\n",
       " '1-2': '1-2-00044.txt',\n",
       " '1-4': '1-4-00006.txt',\n",
       " '1-6': '1-6-00005.txt',\n",
       " '2': '2-00153.txt',\n",
       " '2-1': '2-1-00034.txt',\n",
       " '2-2': '2-2-00059.txt',\n",
       " '2-4': '2-4-00018.txt',\n",
       " '2-6': '2-6-00002.txt',\n",
       " '3': '3-00001.txt',\n",
       " '3-1': '3-1-00214.txt',\n",
       " '3-2': '3-2-00022.txt',\n",
       " '3-3': '3-3-00003.txt',\n",
       " '3-4': '3-4-00630.txt',\n",
       " '3-6': '3-6-00002.txt',\n",
       " '4': '4-00073.txt',\n",
       " '4-1': '4-1-00110.txt',\n",
       " '4-2': '4-2-00203.txt',\n",
       " '4-4': '4-4-00060.txt',\n",
       " '4-6': '4-6-00006.txt',\n",
       " '6': '6-00106.txt'}"
      ]
     },
     "execution_count": 283,
     "metadata": {},
     "output_type": "execute_result"
    }
   ],
   "source": [
    "references = {reference[:reference.rfind('-')]:reference for reference in references}\n",
    "references"
   ]
  },
  {
   "attachments": {},
   "cell_type": "markdown",
   "metadata": {},
   "source": [
    "Get annotations of the chosen reference images"
   ]
  },
  {
   "cell_type": "code",
   "execution_count": 224,
   "metadata": {},
   "outputs": [],
   "source": [
    "references_path = os.path.join(os.path.join(os.pardir, 'dataset'), 'references')\n",
    "references_images_path = os.path.join(references_path, 'images')\n",
    "references_annotations_path = os.path.join(references_path, 'annotations')\n",
    "\n",
    "source_path = os.path.join(os.pardir, 'dataset')\n",
    "source_annotations_path = os.path.join(source_path, 'annotations')\n",
    "\n",
    "source_annotations = os.listdir(source_annotations_path)\n",
    "references_images = os.listdir(os.path.join(references_path, 'images'))\n",
    "\n",
    "os.makedirs(references_annotations_path, exist_ok=True)\n",
    "\n",
    "for img in references_images:\n",
    "    annotation = img.replace('jpg', 'txt')\n",
    "    if annotation in source_annotations:\n",
    "        src = os.path.join(source_annotations_path, annotation)\n",
    "        shutil.copy(src, references_annotations_path)"
   ]
  },
  {
   "attachments": {},
   "cell_type": "markdown",
   "metadata": {},
   "source": [
    "Remove non static objects (players) from references annotations files"
   ]
  },
  {
   "cell_type": "code",
   "execution_count": null,
   "metadata": {},
   "outputs": [],
   "source": [
    "# references_annotations = glob.glob(os.path.join(os.path.join(references_path, 'annotations'), '*txt'))\n",
    "\n",
    "# for annotation in references_annotations:\n",
    "#     with open(annotation, 'r+') as f:\n",
    "#         lines = f.readlines()\n",
    "#         f.seek(0)\n",
    "#         for line in lines:\n",
    "#             if not line.startswith('0'):\n",
    "#                 f.write(line)\n",
    "#         f.truncate()"
   ]
  },
  {
   "attachments": {},
   "cell_type": "markdown",
   "metadata": {},
   "source": [
    "Create semi-annotated files"
   ]
  },
  {
   "cell_type": "code",
   "execution_count": 290,
   "metadata": {},
   "outputs": [],
   "source": [
    "dataset_path = '/mnt/16F2E723F2E70639/ITI/Gradution Project/Scouting/sub-scout/'\n",
    "\n",
    "source_annotations_path = os.path.join(source_path, 'annotations')\n",
    "\n",
    "dest_path = os.path.join(source_path, 'semi-annotations')\n",
    "os.makedirs(dest_path, exist_ok=True)\n",
    "\n",
    "for img in os.listdir(dataset_path):\n",
    "    annotation = img.replace('jpg', 'txt')\n",
    "    reference_annotation = references.get(annotation[:annotation.rfind('-')])\n",
    "    if reference_annotation:\n",
    "        src = os.path.join(source_annotations_path, reference_annotation)\n",
    "        # copy reference annotation file to destination\n",
    "        shutil.copy(src, dest_path)\n",
    "\n",
    "        # rename the file with the annotation name\n",
    "        old_name = os.path.join(dest_path, reference_annotation)\n",
    "        new_name = os.path.join(dest_path, annotation)\n",
    "        os.rename(old_name, new_name)\n",
    "\n",
    "        # remove non static objects (players) from semi-annotations files\n",
    "        with open(new_name, 'r+') as f:\n",
    "            lines = f.readlines()\n",
    "            f.seek(0)\n",
    "            for line in lines:  \n",
    "                if not line.startswith('0'):\n",
    "                    f.write(line)\n",
    "            f.truncate()"
   ]
  }
 ],
 "metadata": {
  "kernelspec": {
   "display_name": "Python 3",
   "language": "python",
   "name": "python3"
  },
  "language_info": {
   "codemirror_mode": {
    "name": "ipython",
    "version": 3
   },
   "file_extension": ".py",
   "mimetype": "text/x-python",
   "name": "python",
   "nbconvert_exporter": "python",
   "pygments_lexer": "ipython3",
   "version": "3.10.6"
  },
  "orig_nbformat": 4
 },
 "nbformat": 4,
 "nbformat_minor": 2
}
